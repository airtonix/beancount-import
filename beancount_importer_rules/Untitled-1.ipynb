{
 "cells": [
  {
   "cell_type": "code",
   "execution_count": 12,
   "metadata": {},
   "outputs": [
    {
     "name": "stdout",
     "output_type": "stream",
     "text": [
      "2013-05-11 21:23:58.970460+07:00\n",
      "2013-05-11 00:00:00+00:00\n",
      "2013-05-11 00:00:00+00:00\n"
     ]
    }
   ],
   "source": [
    "import arrow\n",
    "\n",
    "print(arrow.get('2013-05-11T21:23:58.970460+07:00').datetime)\n",
    "print(arrow.get('11-05-2013', 'DD-MM-YYYY').datetime)\n",
    "print(arrow.get('2013-05-11').datetime)"
   ]
  }
 ],
 "metadata": {
  "kernelspec": {
   "display_name": ".venv",
   "language": "python",
   "name": "python3"
  },
  "language_info": {
   "codemirror_mode": {
    "name": "ipython",
    "version": 3
   },
   "file_extension": ".py",
   "mimetype": "text/x-python",
   "name": "python",
   "nbconvert_exporter": "python",
   "pygments_lexer": "ipython3",
   "version": "3.12.5"
  }
 },
 "nbformat": 4,
 "nbformat_minor": 2
}
